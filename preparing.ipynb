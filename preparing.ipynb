{
 "cells": [
  {
   "cell_type": "code",
   "execution_count": 1,
   "id": "b56284de",
   "metadata": {},
   "outputs": [],
   "source": [
    "import os \n",
    "import warnings\n",
    "warnings.filterwarnings('ignore')\n",
    "import pandas as pd\n",
    "import numpy as np\n",
    "from datetime import datetime\n",
    "from pytz import timezone\n",
    "from dateutil import tz\n",
    "from datetime import datetime, timedelta\n",
    "import geojson\n",
    "import geopandas as gpd  \n",
    "from fiona.crs import from_epsg\n",
    "import os, json\n",
    "from shapely.geometry import shape, Point, Polygon, MultiPoint\n",
    "\n",
    "import os\n",
    "for dirname, _, filenames in os.walk('/kaggle/input'):\n",
    "    for filename in filenames:\n",
    "        print(os.path.join(dirname, filename))\n",
    "        \n",
    "%matplotlib inline\n",
    "import matplotlib.pyplot as plt\n",
    "import osmnx as ox\n",
    "\n",
    "from geopandas.tools import sjoin\n",
    "from sklearn.neighbors import KernelDensity\n",
    "from sklearn.model_selection import train_test_split\n",
    "import matplotlib.cm as cm\n",
    "import folium"
   ]
  },
  {
   "cell_type": "code",
   "execution_count": 2,
   "id": "9787f202",
   "metadata": {},
   "outputs": [],
   "source": [
    "def getDuplicateColumns(frame):\n",
    "    groups = frame.columns.to_series().groupby(frame.dtypes).groups\n",
    "    dups = []\n",
    "    for t, v in groups.items():\n",
    "        dcols = frame[v].to_dict(orient=\"list\")\n",
    "        \n",
    "        vs = list(dcols.values())\n",
    "        ks = list(dcols.keys())\n",
    "        lvs = len(vs)\n",
    "        \n",
    "        for i in range(lvs):\n",
    "            vsi = vs[i]\n",
    "            for j in range(i+1, lvs):\n",
    "                vsj = vs[j]\n",
    "                if vsi == vsj: \n",
    "                    dups.append(ks[i])\n",
    "                    break\n",
    "                    \n",
    "    return dups"
   ]
  },
  {
   "cell_type": "code",
   "execution_count": 4,
   "id": "cb4eb8ee",
   "metadata": {},
   "outputs": [
    {
     "name": "stdout",
     "output_type": "stream",
     "text": [
      "Anderlecht total number of streets 2883\n"
     ]
    },
    {
     "data": {
      "text/plain": [
       "<folium.features.GeoJson at 0x2056e176a90>"
      ]
     },
     "execution_count": 4,
     "metadata": {},
     "output_type": "execute_result"
    }
   ],
   "source": [
    "df_bruxelles = gpd.read_file('Anderlecht_streets.json')\n",
    "print('Anderlecht total number of streets '+str(df_bruxelles.shape[0]))\n",
    "\n",
    "\n",
    "polygons = df_bruxelles\n",
    "m = folium.Map([50.85045, 4.34878], zoom_start=13, tiles='cartodbpositron')\n",
    "folium.GeoJson(polygons).add_to(m)"
   ]
  },
  {
   "cell_type": "code",
   "execution_count": 4,
   "id": "70ab9137",
   "metadata": {},
   "outputs": [
    {
     "name": "stdout",
     "output_type": "stream",
     "text": [
      "in Anderlecht 5 min there are 3364200 rows and 4 columns\n",
      "in Anderlecht 15 min there are 2120983 rows and 4 columns\n",
      "in Anderlecht 30 min there are 1592229 rows and 4 columns\n"
     ]
    }
   ],
   "source": [
    "DF_5 = pd.read_csv('And_05min_0101_0103_2019.csv', header=None)\n",
    "DF_5.columns = ['datetime','street_id','count','vel']\n",
    "nRow_5, nCol_5 = DF_5.shape\n",
    "\n",
    "DF_15 = pd.read_csv('And_15min_0101_0103_2019.csv', header=None)\n",
    "DF_15.columns = ['datetime','street_id','count','vel']\n",
    "nRow_15, nCol_15 = DF_15.shape\n",
    "\n",
    "DF_30 = pd.read_csv('And_30min_0101_0103_2019.csv', header=None)\n",
    "DF_30.columns = ['datetime','street_id','count','vel']\n",
    "nRow_30, nCol_30 = DF_30.shape\n",
    "\n",
    "\n",
    "# print(f'in Anderlecht 1 min there are {nRow_1} rows and {nCol_1} columns')\n",
    "print(f'in Anderlecht 5 min there are {nRow_5} rows and {nCol_5} columns')\n",
    "print(f'in Anderlecht 15 min there are {nRow_15} rows and {nCol_15} columns')\n",
    "print(f'in Anderlecht 30 min there are {nRow_30} rows and {nCol_30} columns')"
   ]
  },
  {
   "cell_type": "code",
   "execution_count": 5,
   "id": "4c1c6f4a",
   "metadata": {},
   "outputs": [
    {
     "name": "stdout",
     "output_type": "stream",
     "text": [
      "(16894, 2852)\n",
      "\n",
      "(5656, 2852)\n",
      "\n",
      "(2832, 2852)\n",
      "\n"
     ]
    }
   ],
   "source": [
    "table_5 = DF_5.pivot_table(index='datetime', columns='street_id')['count']\n",
    "table_5 = table_5.fillna(0)\n",
    "\n",
    "table_vel_5 = DF_5.pivot_table(index='datetime', columns='street_id')['vel']\n",
    "table_vel_5 = table_vel_5.fillna(0)\n",
    "\n",
    "print(table_5.shape)\n",
    "print('')\n",
    "\n",
    "table_15 = DF_15.pivot_table(index='datetime', columns='street_id')['count']\n",
    "table_15 = table_15.fillna(0)\n",
    "\n",
    "table_vel_15 = DF_15.pivot_table(index='datetime', columns='street_id')['vel']\n",
    "table_vel_15 = table_vel_15.fillna(0)\n",
    "\n",
    "print(table_15.shape)\n",
    "print('')\n",
    "\n",
    "table_30 = DF_30.pivot_table(index='datetime', columns='street_id')['count']\n",
    "table_30 = table_30.fillna(0)\n",
    "\n",
    "table_vel_30 = DF_30.pivot_table(index='datetime', columns='street_id')['vel']\n",
    "table_vel_30 = table_vel_30.fillna(0)\n",
    "\n",
    "print(table_30.shape)\n",
    "print('')\n"
   ]
  },
  {
   "cell_type": "code",
   "execution_count": 6,
   "id": "faab90cf",
   "metadata": {},
   "outputs": [
    {
     "name": "stdout",
     "output_type": "stream",
     "text": [
      "778\n"
     ]
    }
   ],
   "source": [
    "list_duplicates = getDuplicateColumns(table_vel_5)\n",
    "print(len(list_duplicates))"
   ]
  },
  {
   "cell_type": "code",
   "execution_count": 7,
   "id": "fb215f0a",
   "metadata": {},
   "outputs": [
    {
     "name": "stdout",
     "output_type": "stream",
     "text": [
      "Flow_Anderlecht_street_5min\n",
      "(16894, 2075)\n",
      "\n",
      "Velocity_Anderlecht_street_5min\n",
      "(16894, 2075)\n",
      "\n",
      "\n",
      "Flow_Anderlecht_street_15min\n",
      "(5656, 2075)\n",
      "\n",
      "Velocity_Anderlecht_street_15min\n",
      "(5656, 2075)\n",
      "\n",
      "\n",
      "Flow_Anderlecht_street_30min\n",
      "(2832, 2075)\n",
      "\n",
      "Velocity_Anderlecht_street_30min\n",
      "(2832, 2075)\n",
      "\n",
      "\n"
     ]
    }
   ],
   "source": [
    "file_name = 'Flow_Anderlecht_street_5min'\n",
    "print(file_name)\n",
    "table_5 = table_5.reset_index().drop(list_duplicates, axis=1)\n",
    "table_5.to_csv(file_name + '.csv',index=False)\n",
    "print(table_5.shape)\n",
    "print('')\n",
    "\n",
    "file_name = 'Velocity_Anderlecht_street_5min'\n",
    "print(file_name)\n",
    "table_vel_5 = table_vel_5.reset_index().drop(list_duplicates, axis=1)\n",
    "table_vel_5.to_csv(file_name + '.csv',index=False)\n",
    "print(table_vel_5.shape)\n",
    "print('')\n",
    "print('')\n",
    "\n",
    "\n",
    "file_name = 'Flow_Anderlecht_street_15min'\n",
    "print(file_name)\n",
    "table_15 = table_15.reset_index().drop(list_duplicates, axis=1)\n",
    "table_15.to_csv(file_name + '.csv',index=False)\n",
    "print(table_15.shape)\n",
    "print('')\n",
    "\n",
    "file_name = 'Velocity_Anderlecht_street_15min'\n",
    "print(file_name)\n",
    "table_vel_15 = table_vel_15.reset_index().drop(list_duplicates, axis=1)\n",
    "table_vel_15.to_csv(file_name + '.csv',index=False)\n",
    "print(table_vel_15.shape)\n",
    "print('')\n",
    "print('')\n",
    "\n",
    "\n",
    "file_name = 'Flow_Anderlecht_street_30min'\n",
    "print(file_name)\n",
    "table_30 = table_30.reset_index().drop(list_duplicates, axis=1)\n",
    "table_30.to_csv(file_name + '.csv',index=False)\n",
    "print(table_30.shape)\n",
    "print('')\n",
    "\n",
    "file_name = 'Velocity_Anderlecht_street_30min'\n",
    "print(file_name)\n",
    "table_vel_30 = table_vel_30.reset_index().drop(list_duplicates, axis=1)\n",
    "table_vel_30.to_csv(file_name + '.csv',index=False)\n",
    "print(table_vel_30.shape)\n",
    "print('')\n",
    "print('')"
   ]
  },
  {
   "cell_type": "code",
   "execution_count": 5,
   "id": "930e2557",
   "metadata": {},
   "outputs": [
    {
     "name": "stdout",
     "output_type": "stream",
     "text": [
      "Bruxelles total number of streets 4540\n"
     ]
    },
    {
     "data": {
      "text/plain": [
       "<folium.features.GeoJson at 0x2056ea5e310>"
      ]
     },
     "execution_count": 5,
     "metadata": {},
     "output_type": "execute_result"
    }
   ],
   "source": [
    "df_bruxelles = gpd.read_file('Bruxelles_streets.json')\n",
    "print('Bruxelles total number of streets '+str(df_bruxelles.shape[0]))\n",
    "\n",
    "\n",
    "polygons = df_bruxelles\n",
    "m = folium.Map([50.85045, 4.34878], zoom_start=12, tiles='cartodbpositron')\n",
    "folium.GeoJson(polygons).add_to(m)"
   ]
  },
  {
   "cell_type": "code",
   "execution_count": 9,
   "id": "78f91720",
   "metadata": {},
   "outputs": [
    {
     "name": "stdout",
     "output_type": "stream",
     "text": [
      "in BXL 5 min there are 11037714 rows and 4 columns\n",
      "in BXL 15 min there are 6652675 rows and 4 columns\n",
      "in BXL 30 min there are 4402294 rows and 4 columns\n"
     ]
    }
   ],
   "source": [
    "DF_5 = pd.read_csv('Bxl_05min_0101_0103_2019.csv', header=None)\n",
    "DF_5.columns = ['datetime','street_id','count','vel']\n",
    "nRow_5, nCol_5 = DF_5.shape\n",
    "\n",
    "DF_15 = pd.read_csv('Bxl_15min_0101_0103_2019.csv', header=None)\n",
    "DF_15.columns = ['datetime','street_id','count','vel']\n",
    "nRow_15, nCol_15 = DF_15.shape\n",
    "\n",
    "DF_30 = pd.read_csv('Bxl_30min_0101_0103_2019.csv', header=None)\n",
    "DF_30.columns = ['datetime','street_id','count','vel']\n",
    "nRow_30, nCol_30 = DF_30.shape\n",
    "\n",
    "\n",
    "\n",
    "print(f'in BXL 5 min there are {nRow_5} rows and {nCol_5} columns')\n",
    "print(f'in BXL 15 min there are {nRow_15} rows and {nCol_15} columns')\n",
    "print(f'in BXL 30 min there are {nRow_30} rows and {nCol_30} columns')"
   ]
  },
  {
   "cell_type": "code",
   "execution_count": 10,
   "id": "77b1d599",
   "metadata": {},
   "outputs": [
    {
     "name": "stdout",
     "output_type": "stream",
     "text": [
      "(16986, 4529)\n",
      "\n",
      "(5664, 4529)\n",
      "\n",
      "(2832, 4529)\n",
      "\n"
     ]
    }
   ],
   "source": [
    "table_5 = DF_5.pivot_table(index='datetime', columns='street_id')['count']\n",
    "table_5 = table_5.fillna(0)\n",
    "\n",
    "table_vel_5 = DF_5.pivot_table(index='datetime', columns='street_id')['vel']\n",
    "table_vel_5 = table_vel_5.fillna(0)\n",
    "\n",
    "print(table_5.shape)\n",
    "print('')\n",
    "\n",
    "\n",
    "table_15 = DF_15.pivot_table(index='datetime', columns='street_id')['count']\n",
    "table_15 = table_15.fillna(0)\n",
    "\n",
    "table_vel_15 = DF_15.pivot_table(index='datetime', columns='street_id')['vel']\n",
    "table_vel_15 = table_vel_15.fillna(0)\n",
    "\n",
    "print(table_15.shape)\n",
    "print('')\n",
    "\n",
    "table_30 = DF_30.pivot_table(index='datetime', columns='street_id')['count']\n",
    "table_30 = table_30.fillna(0)\n",
    "\n",
    "table_vel_30 = DF_30.pivot_table(index='datetime', columns='street_id')['vel']\n",
    "table_vel_30 = table_vel_30.fillna(0)\n",
    "\n",
    "print(table_30.shape)\n",
    "print('')\n"
   ]
  },
  {
   "cell_type": "code",
   "execution_count": 11,
   "id": "642ac314",
   "metadata": {},
   "outputs": [
    {
     "name": "stdout",
     "output_type": "stream",
     "text": [
      "354\n"
     ]
    }
   ],
   "source": [
    "list_duplicates = getDuplicateColumns(table_vel_5)\n",
    "print(len(list_duplicates))"
   ]
  },
  {
   "cell_type": "code",
   "execution_count": 12,
   "id": "7eabd738",
   "metadata": {},
   "outputs": [
    {
     "name": "stdout",
     "output_type": "stream",
     "text": [
      "Flow_BXL_street_5min\n",
      "(16986, 4176)\n",
      "\n",
      "Velocity_BXL_street_5min\n",
      "(16986, 4176)\n",
      "\n",
      "\n",
      "Flow_BXL_street_15min\n",
      "(5664, 4176)\n",
      "\n",
      "Velocity_BXL_street_15min\n",
      "(5664, 4176)\n",
      "\n",
      "\n",
      "Flow_BXL_street_30min\n",
      "(2832, 4176)\n",
      "\n",
      "Velocity_BXL_street_30min\n",
      "(2832, 4176)\n",
      "\n",
      "\n"
     ]
    }
   ],
   "source": [
    "file_name = 'Flow_BXL_street_5min'\n",
    "print(file_name)\n",
    "table_5 = table_5.reset_index().drop(list_duplicates, axis=1)\n",
    "table_5.to_csv(file_name + '.csv',index=False)\n",
    "print(table_5.shape)\n",
    "print('')\n",
    "\n",
    "file_name = 'Velocity_BXL_street_5min'\n",
    "print(file_name)\n",
    "table_vel_5 = table_vel_5.reset_index().drop(list_duplicates, axis=1)\n",
    "table_vel_5.to_csv(file_name + '.csv',index=False)\n",
    "print(table_vel_5.shape)\n",
    "print('')\n",
    "print('')\n",
    "\n",
    "\n",
    "file_name = 'Flow_BXL_street_15min'\n",
    "print(file_name)\n",
    "table_15 = table_15.reset_index().drop(list_duplicates, axis=1)\n",
    "table_15.to_csv(file_name + '.csv',index=False)\n",
    "print(table_15.shape)\n",
    "print('')\n",
    "\n",
    "file_name = 'Velocity_BXL_street_15min'\n",
    "print(file_name)\n",
    "table_vel_15 = table_vel_15.reset_index().drop(list_duplicates, axis=1)\n",
    "table_vel_15.to_csv(file_name + '.csv',index=False)\n",
    "print(table_vel_15.shape)\n",
    "print('')\n",
    "print('')\n",
    "\n",
    "\n",
    "file_name = 'Flow_BXL_street_30min'\n",
    "print(file_name)\n",
    "table_30 = table_30.reset_index().drop(list_duplicates, axis=1)\n",
    "table_30.to_csv(file_name + '.csv',index=False)\n",
    "print(table_30.shape)\n",
    "print('')\n",
    "\n",
    "file_name = 'Velocity_BXL_street_30min'\n",
    "print(file_name)\n",
    "table_vel_30 = table_vel_30.reset_index().drop(list_duplicates, axis=1)\n",
    "table_vel_30.to_csv(file_name + '.csv',index=False)\n",
    "print(table_vel_30.shape)\n",
    "print('')\n",
    "print('')"
   ]
  },
  {
   "cell_type": "code",
   "execution_count": 6,
   "id": "e4334a51",
   "metadata": {},
   "outputs": [
    {
     "name": "stdout",
     "output_type": "stream",
     "text": [
      "Belgium total number of highways 5197\n"
     ]
    },
    {
     "data": {
      "text/plain": [
       "<folium.features.GeoJson at 0x2056a79fc90>"
      ]
     },
     "execution_count": 6,
     "metadata": {},
     "output_type": "execute_result"
    }
   ],
   "source": [
    "df_belgium = gpd.read_file('Belgium_streets.json')\n",
    "print('Belgium total number of highways '+str(df_belgium.shape[0]))\n",
    "\n",
    "m = folium.Map([50.85045, 4.34878], zoom_start=9, tiles='cartodbpositron')\n",
    "folium.GeoJson(df_belgium).add_to(m)"
   ]
  },
  {
   "cell_type": "code",
   "execution_count": 14,
   "id": "8fefc681",
   "metadata": {},
   "outputs": [
    {
     "name": "stdout",
     "output_type": "stream",
     "text": [
      "in BEL 15 min there are 22657292 rows and 4 columns\n",
      "in BEL 30 min there are 11245888 rows and 4 columns\n",
      "in BEL 60 min there are 7826424 rows and 4 columns\n"
     ]
    }
   ],
   "source": [
    "DF_5 = pd.read_csv('Bel_05min_0101_0103_2019.csv', header=None)\n",
    "DF_5.columns = ['datetime','street_id','count','vel']\n",
    "nRow_5, nCol_5 = DF_5.shape\n",
    "\n",
    "DF_15 = pd.read_csv('Bel_15min_0101_0103_2019.csv', header=None)\n",
    "DF_15.columns = ['datetime','street_id','count','vel']\n",
    "nRow_15, nCol_15 = DF_15.shape\n",
    "\n",
    "DF_30 = pd.read_csv('Bel_30min_0101_0103_2019.csv', header=None)\n",
    "DF_30.columns = ['datetime','street_id','count','vel']\n",
    "nRow_30, nCol_30 = DF_30.shape\n",
    "\n",
    "DF_60 = pd.read_csv('Bel_60min_0101_0103_2019.csv', header=None)\n",
    "DF_60.columns = ['datetime','street_id','count','vel']\n",
    "nRow_60, nCol_60 = DF_60.shape\n",
    "\n",
    "# print(f'in BEL 5 min there are {nRow_5} rows and {nCol_5} columns')\n",
    "print(f'in BEL 15 min there are {nRow_15} rows and {nCol_15} columns')\n",
    "print(f'in BEL 30 min there are {nRow_30} rows and {nCol_30} columns')\n",
    "print(f'in BEL 60 min there are {nRow_60} rows and {nCol_60} columns')"
   ]
  },
  {
   "cell_type": "code",
   "execution_count": 15,
   "id": "0a86b1ac",
   "metadata": {},
   "outputs": [
    {
     "name": "stdout",
     "output_type": "stream",
     "text": [
      "(1416, 5195)\n",
      "\n"
     ]
    }
   ],
   "source": [
    "table_5 = DF_5.pivot_table(index='datetime', columns='street_id')['count']\n",
    "table_5 = table_5.fillna(0)\n",
    "\n",
    "table_vel_5 = DF_5.pivot_table(index='datetime', columns='street_id')['vel']\n",
    "table_vel_5 = table_vel_5.fillna(0)\n",
    "\n",
    "table_15 = DF_15.pivot_table(index='datetime', columns='street_id')['count']\n",
    "table_15 = table_15.fillna(0)\n",
    "\n",
    "table_vel_15 = DF_15.pivot_table(index='datetime', columns='street_id')['vel']\n",
    "table_vel_15 = table_vel_15.fillna(0)\n",
    "\n",
    "table_30 = DF_30.pivot_table(index='datetime', columns='street_id')['count']\n",
    "table_30 = table_30.fillna(0)\n",
    "\n",
    "table_vel_30 = DF_30.pivot_table(index='datetime', columns='street_id')['vel']\n",
    "table_vel_30 = table_vel_30.fillna(0)\n",
    "\n",
    "table_60 = DF_60.pivot_table(index='datetime', columns='street_id')['count']\n",
    "table_60 = table_60.fillna(0)\n",
    "\n",
    "table_vel_60 = DF_60.pivot_table(index='datetime', columns='street_id')['vel']\n",
    "table_vel_60 = table_vel_60.fillna(0)\n",
    "\n",
    "print(table_60.shape)\n",
    "print('')"
   ]
  },
  {
   "cell_type": "code",
   "execution_count": 16,
   "id": "1752f0d5",
   "metadata": {},
   "outputs": [
    {
     "name": "stdout",
     "output_type": "stream",
     "text": [
      "22\n"
     ]
    }
   ],
   "source": [
    "list_duplicates = getDuplicateColumns(table_vel_5)\n",
    "print(len(list_duplicates))"
   ]
  },
  {
   "cell_type": "code",
   "execution_count": 17,
   "id": "b0b8e6db",
   "metadata": {},
   "outputs": [
    {
     "name": "stdout",
     "output_type": "stream",
     "text": [
      "Flow_BEL_street_5min\n",
      "(16992, 5174)\n",
      "\n",
      "Velocity_BEL_street_5min\n",
      "(16992, 5174)\n",
      "\n",
      "\n",
      "Flow_BEL_street_15min\n",
      "(5664, 5174)\n",
      "\n",
      "Velocity_BEL_street_15min\n",
      "(5664, 5174)\n",
      "\n",
      "\n",
      "Flow_BEL_street_30min\n",
      "(2832, 5174)\n",
      "\n",
      "Velocity_BEL_street_30min\n",
      "(2832, 5174)\n",
      "\n",
      "\n",
      "Flow_BEL_street_60min\n",
      "(1416, 5174)\n",
      "\n",
      "Velocity_BEL_street_60min\n",
      "(1416, 5174)\n"
     ]
    }
   ],
   "source": [
    "file_name = 'Flow_BEL_street_5min'\n",
    "print(file_name)\n",
    "table_5 = table_5.reset_index().drop(list_duplicates, axis=1)\n",
    "table_5.to_csv(file_name + '.csv',index=False)\n",
    "print(table_5.shape)\n",
    "print('')\n",
    "\n",
    "file_name = 'Velocity_BEL_street_5min'\n",
    "print(file_name)\n",
    "table_vel_5 = table_vel_5.reset_index().drop(list_duplicates, axis=1)\n",
    "table_vel_5.to_csv(file_name + '.csv',index=False)\n",
    "print(table_vel_5.shape)\n",
    "print('')\n",
    "print('')\n",
    "\n",
    "\n",
    "file_name = 'Flow_BEL_street_15min'\n",
    "print(file_name)\n",
    "table_15 = table_15.reset_index().drop(list_duplicates, axis=1)\n",
    "table_15.to_csv(file_name + '.csv',index=False)\n",
    "print(table_15.shape)\n",
    "print('')\n",
    "\n",
    "file_name = 'Velocity_BEL_street_15min'\n",
    "print(file_name)\n",
    "table_vel_15 = table_vel_15.reset_index().drop(list_duplicates, axis=1)\n",
    "table_vel_15.to_csv(file_name + '.csv',index=False)\n",
    "print(table_vel_15.shape)\n",
    "print('')\n",
    "print('')\n",
    "\n",
    "\n",
    "file_name = 'Flow_BEL_street_30min'\n",
    "print(file_name)\n",
    "table_30 = table_30.reset_index().drop(list_duplicates, axis=1)\n",
    "table_30.to_csv(file_name + '.csv',index=False)\n",
    "print(table_30.shape)\n",
    "print('')\n",
    "\n",
    "file_name = 'Velocity_BEL_street_30min'\n",
    "print(file_name)\n",
    "table_vel_30 = table_vel_30.reset_index().drop(list_duplicates, axis=1)\n",
    "table_vel_30.to_csv(file_name + '.csv',index=False)\n",
    "print(table_vel_30.shape)\n",
    "print('')\n",
    "print('')\n",
    "\n",
    "\n",
    "file_name = 'Flow_BEL_street_60min'\n",
    "print(file_name)\n",
    "table_60 = table_60.reset_index().drop(list_duplicates, axis=1)\n",
    "table_60.to_csv(file_name + '.csv',index=False)\n",
    "print(table_60.shape)\n",
    "print('')\n",
    "\n",
    "file_name = 'Velocity_BEL_street_60min'\n",
    "print(file_name)\n",
    "table_vel_60 = table_vel_60.reset_index().drop(list_duplicates, axis=1)\n",
    "table_vel_60.to_csv(file_name + '.csv',index=False)\n",
    "print(table_vel_60.shape)"
   ]
  }
 ],
 "metadata": {
  "kernelspec": {
   "display_name": "Python 3 (ipykernel)",
   "language": "python",
   "name": "python3"
  },
  "language_info": {
   "codemirror_mode": {
    "name": "ipython",
    "version": 3
   },
   "file_extension": ".py",
   "mimetype": "text/x-python",
   "name": "python",
   "nbconvert_exporter": "python",
   "pygments_lexer": "ipython3",
   "version": "3.11.3"
  }
 },
 "nbformat": 4,
 "nbformat_minor": 5
}
